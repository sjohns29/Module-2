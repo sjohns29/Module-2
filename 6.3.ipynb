{
 "cells": [
  {
   "cell_type": "code",
   "id": "initial_id",
   "metadata": {
    "collapsed": true,
    "ExecuteTime": {
     "end_time": "2025-09-10T17:07:58.149237Z",
     "start_time": "2025-09-10T17:07:58.147049Z"
    }
   },
   "source": "guess_me = 5",
   "outputs": [],
   "execution_count": 1
  },
  {
   "metadata": {
    "ExecuteTime": {
     "end_time": "2025-09-10T17:07:58.674333Z",
     "start_time": "2025-09-10T17:07:58.671942Z"
    }
   },
   "cell_type": "code",
   "source": [
    "for number in range(10):\n",
    "    if number == guess_me:\n",
    "        print(\"Found it\")\n",
    "    elif number < guess_me:\n",
    "        print(\"Too low \")\n",
    "    else:\n",
    "        print(\"Too high\")\n"
   ],
   "id": "27e04bf330f9d0e6",
   "outputs": [
    {
     "name": "stdout",
     "output_type": "stream",
     "text": [
      "Too low \n",
      "Too low \n",
      "Too low \n",
      "Too low \n",
      "Too low \n",
      "Found it\n",
      "Too high\n",
      "Too high\n",
      "Too high\n",
      "Too high\n"
     ]
    }
   ],
   "execution_count": 2
  }
 ],
 "metadata": {
  "kernelspec": {
   "display_name": "Python 3",
   "language": "python",
   "name": "python3"
  },
  "language_info": {
   "codemirror_mode": {
    "name": "ipython",
    "version": 2
   },
   "file_extension": ".py",
   "mimetype": "text/x-python",
   "name": "python",
   "nbconvert_exporter": "python",
   "pygments_lexer": "ipython2",
   "version": "2.7.6"
  }
 },
 "nbformat": 4,
 "nbformat_minor": 5
}
