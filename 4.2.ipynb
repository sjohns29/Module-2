{
 "cells": [
  {
   "metadata": {
    "ExecuteTime": {
     "end_time": "2025-09-10T15:42:08.599417Z",
     "start_time": "2025-09-10T15:42:08.597384Z"
    }
   },
   "cell_type": "code",
   "source": [
    "small = True\n",
    "green = True"
   ],
   "id": "683c665c285c31bc",
   "outputs": [],
   "execution_count": 52
  },
  {
   "metadata": {
    "ExecuteTime": {
     "end_time": "2025-09-10T15:42:09.527952Z",
     "start_time": "2025-09-10T15:42:09.525520Z"
    }
   },
   "cell_type": "code",
   "source": [
    "if small and green:\n",
    "    print(\"Pea\")\n",
    "elif not green and small:\n",
    "    print(\"Cherry\")\n",
    "elif not green and not small:\n",
    "    print(\"Pumpkin\")\n",
    "elif green and not small:\n",
    "    print(\"Watermelon\")"
   ],
   "id": "157b23f10ac8d9eb",
   "outputs": [
    {
     "name": "stdout",
     "output_type": "stream",
     "text": [
      "Pea\n"
     ]
    }
   ],
   "execution_count": 53
  }
 ],
 "metadata": {
  "kernelspec": {
   "display_name": "Python 3",
   "language": "python",
   "name": "python3"
  },
  "language_info": {
   "codemirror_mode": {
    "name": "ipython",
    "version": 2
   },
   "file_extension": ".py",
   "mimetype": "text/x-python",
   "name": "python",
   "nbconvert_exporter": "python",
   "pygments_lexer": "ipython2",
   "version": "2.7.6"
  }
 },
 "nbformat": 4,
 "nbformat_minor": 5
}
