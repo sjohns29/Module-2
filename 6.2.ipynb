{
 "cells": [
  {
   "cell_type": "code",
   "id": "initial_id",
   "metadata": {
    "collapsed": true,
    "ExecuteTime": {
     "end_time": "2025-09-10T16:53:23.377256Z",
     "start_time": "2025-09-10T16:53:23.374616Z"
    }
   },
   "source": [
    "guess_me = 7\n",
    "number = 1"
   ],
   "outputs": [],
   "execution_count": 1
  },
  {
   "metadata": {
    "ExecuteTime": {
     "end_time": "2025-09-10T16:53:23.394436Z",
     "start_time": "2025-09-10T16:53:23.392036Z"
    }
   },
   "cell_type": "code",
   "source": [
    "while True:\n",
    "    if guess_me > number:\n",
    "        print(\"Too low\")\n",
    "    elif guess_me == number:\n",
    "        print(\"Found it\")\n",
    "        break\n",
    "    else:\n",
    "        print(\"Oops\")\n",
    "    number += 1"
   ],
   "id": "16ab2f4fa97a6cdc",
   "outputs": [
    {
     "name": "stdout",
     "output_type": "stream",
     "text": [
      "Too low\n",
      "Too low\n",
      "Too low\n",
      "Too low\n",
      "Too low\n",
      "Too low\n",
      "Found it\n"
     ]
    }
   ],
   "execution_count": 2
  }
 ],
 "metadata": {
  "kernelspec": {
   "display_name": "Python 3",
   "language": "python",
   "name": "python3"
  },
  "language_info": {
   "codemirror_mode": {
    "name": "ipython",
    "version": 2
   },
   "file_extension": ".py",
   "mimetype": "text/x-python",
   "name": "python",
   "nbconvert_exporter": "python",
   "pygments_lexer": "ipython2",
   "version": "2.7.6"
  }
 },
 "nbformat": 4,
 "nbformat_minor": 5
}
