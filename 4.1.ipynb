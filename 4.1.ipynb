{
 "cells": [
  {
   "cell_type": "code",
   "id": "initial_id",
   "metadata": {
    "collapsed": true,
    "ExecuteTime": {
     "end_time": "2025-09-10T15:30:55.186727Z",
     "start_time": "2025-09-10T15:30:51.534950Z"
    }
   },
   "source": "secret = input()",
   "outputs": [],
   "execution_count": 4
  },
  {
   "metadata": {
    "ExecuteTime": {
     "end_time": "2025-09-10T15:31:09.474350Z",
     "start_time": "2025-09-10T15:31:09.471845Z"
    }
   },
   "cell_type": "code",
   "source": [
    "if int(secret) == 1:\n",
    "    print(\"You guessed it, congrats\")\n",
    "elif int(secret) <= 1:\n",
    "    print(\"Too low\")\n",
    "else:\n",
    "    print(\"Too high\")"
   ],
   "id": "dad704888ff22a3e",
   "outputs": [
    {
     "name": "stdout",
     "output_type": "stream",
     "text": [
      "Too high\n"
     ]
    }
   ],
   "execution_count": 8
  }
 ],
 "metadata": {
  "kernelspec": {
   "display_name": "Python 3",
   "language": "python",
   "name": "python3"
  },
  "language_info": {
   "codemirror_mode": {
    "name": "ipython",
    "version": 2
   },
   "file_extension": ".py",
   "mimetype": "text/x-python",
   "name": "python",
   "nbconvert_exporter": "python",
   "pygments_lexer": "ipython2",
   "version": "2.7.6"
  }
 },
 "nbformat": 4,
 "nbformat_minor": 5
}
